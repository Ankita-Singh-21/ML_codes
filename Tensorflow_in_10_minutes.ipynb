{
  "nbformat": 4,
  "nbformat_minor": 0,
  "metadata": {
    "colab": {
      "name": "Tensorflow_in_10_minutes.ipynb",
      "provenance": [],
      "authorship_tag": "ABX9TyNvpp3kh5gBpNUsjEKRtF/i",
      "include_colab_link": true
    },
    "kernelspec": {
      "name": "python3",
      "display_name": "Python 3"
    },
    "language_info": {
      "name": "python"
    }
  },
  "cells": [
    {
      "cell_type": "markdown",
      "metadata": {
        "id": "view-in-github",
        "colab_type": "text"
      },
      "source": [
        "<a href=\"https://colab.research.google.com/github/Ankita-Singh-21/ML_codes/blob/main/Tensorflow_in_10_minutes.ipynb\" target=\"_parent\"><img src=\"https://colab.research.google.com/assets/colab-badge.svg\" alt=\"Open In Colab\"/></a>"
      ]
    },
    {
      "cell_type": "markdown",
      "metadata": {
        "id": "y-ErO4tLkMjc"
      },
      "source": [
        "**1. Import Data and Dependencies**\n",
        "\n"
      ]
    },
    {
      "cell_type": "code",
      "metadata": {
        "id": "Hio32D4CkC02"
      },
      "source": [
        "import pandas as pd\n",
        "from sklearn.model_selection import train_test_split\n"
      ],
      "execution_count": 2,
      "outputs": []
    },
    {
      "cell_type": "code",
      "metadata": {
        "id": "yBEH6ll2lQyh"
      },
      "source": [
        "from tensorflow.keras.models import Sequential, load_model\n",
        "from tensorflow.keras.layers import Dense\n",
        "from sklearn.metrics import accuracy_score"
      ],
      "execution_count": 3,
      "outputs": []
    },
    {
      "cell_type": "code",
      "metadata": {
        "id": "wgLWMWYOnbFk"
      },
      "source": [
        "df = pd.read_csv('churn.csv')"
      ],
      "execution_count": 4,
      "outputs": []
    },
    {
      "cell_type": "code",
      "metadata": {
        "colab": {
          "base_uri": "https://localhost:8080/",
          "height": 325
        },
        "id": "MReVY7SGnbLm",
        "outputId": "2274e2c1-6a6a-4599-9162-553b2309a8d4"
      },
      "source": [
        "df.head()"
      ],
      "execution_count": 5,
      "outputs": [
        {
          "output_type": "execute_result",
          "data": {
            "text/html": [
              "<div>\n",
              "<style scoped>\n",
              "    .dataframe tbody tr th:only-of-type {\n",
              "        vertical-align: middle;\n",
              "    }\n",
              "\n",
              "    .dataframe tbody tr th {\n",
              "        vertical-align: top;\n",
              "    }\n",
              "\n",
              "    .dataframe thead th {\n",
              "        text-align: right;\n",
              "    }\n",
              "</style>\n",
              "<table border=\"1\" class=\"dataframe\">\n",
              "  <thead>\n",
              "    <tr style=\"text-align: right;\">\n",
              "      <th></th>\n",
              "      <th>Customer ID</th>\n",
              "      <th>Gender</th>\n",
              "      <th>Senior Citizen</th>\n",
              "      <th>Partner</th>\n",
              "      <th>Dependents</th>\n",
              "      <th>tenure</th>\n",
              "      <th>Phone Service</th>\n",
              "      <th>Multiple Lines</th>\n",
              "      <th>Internet Service</th>\n",
              "      <th>Online Security</th>\n",
              "      <th>Online Backup</th>\n",
              "      <th>Device Protection</th>\n",
              "      <th>Tech Support</th>\n",
              "      <th>Streaming TV</th>\n",
              "      <th>Streaming Movies</th>\n",
              "      <th>Contract</th>\n",
              "      <th>Paperless Billing</th>\n",
              "      <th>Payment Method</th>\n",
              "      <th>Monthly Charges</th>\n",
              "      <th>Total Charges</th>\n",
              "      <th>Churn</th>\n",
              "    </tr>\n",
              "  </thead>\n",
              "  <tbody>\n",
              "    <tr>\n",
              "      <th>0</th>\n",
              "      <td>7590-VHVEA</td>\n",
              "      <td>Female</td>\n",
              "      <td>0</td>\n",
              "      <td>Yes</td>\n",
              "      <td>No</td>\n",
              "      <td>1</td>\n",
              "      <td>No</td>\n",
              "      <td>No phone service</td>\n",
              "      <td>DSL</td>\n",
              "      <td>No</td>\n",
              "      <td>Yes</td>\n",
              "      <td>No</td>\n",
              "      <td>No</td>\n",
              "      <td>No</td>\n",
              "      <td>No</td>\n",
              "      <td>Month-to-month</td>\n",
              "      <td>Yes</td>\n",
              "      <td>Electronic check</td>\n",
              "      <td>29.85</td>\n",
              "      <td>29.85</td>\n",
              "      <td>No</td>\n",
              "    </tr>\n",
              "    <tr>\n",
              "      <th>1</th>\n",
              "      <td>7590-VHVEG</td>\n",
              "      <td>Female</td>\n",
              "      <td>0</td>\n",
              "      <td>Yes</td>\n",
              "      <td>No</td>\n",
              "      <td>1</td>\n",
              "      <td>No</td>\n",
              "      <td>No phone service</td>\n",
              "      <td>DSL</td>\n",
              "      <td>No</td>\n",
              "      <td>Yes</td>\n",
              "      <td>No</td>\n",
              "      <td>No</td>\n",
              "      <td>No</td>\n",
              "      <td>No</td>\n",
              "      <td>Month-to-month</td>\n",
              "      <td>Yes</td>\n",
              "      <td>Electronic check</td>\n",
              "      <td>29.85</td>\n",
              "      <td>29.85</td>\n",
              "      <td>No</td>\n",
              "    </tr>\n",
              "    <tr>\n",
              "      <th>2</th>\n",
              "      <td>5575-GNVDE</td>\n",
              "      <td>Male</td>\n",
              "      <td>0</td>\n",
              "      <td>No</td>\n",
              "      <td>No</td>\n",
              "      <td>34</td>\n",
              "      <td>Yes</td>\n",
              "      <td>No</td>\n",
              "      <td>DSL</td>\n",
              "      <td>Yes</td>\n",
              "      <td>No</td>\n",
              "      <td>Yes</td>\n",
              "      <td>No</td>\n",
              "      <td>No</td>\n",
              "      <td>No</td>\n",
              "      <td>One year</td>\n",
              "      <td>No</td>\n",
              "      <td>Mailed check</td>\n",
              "      <td>56.95</td>\n",
              "      <td>1889.5</td>\n",
              "      <td>No</td>\n",
              "    </tr>\n",
              "    <tr>\n",
              "      <th>3</th>\n",
              "      <td>3668-QPYBK</td>\n",
              "      <td>Male</td>\n",
              "      <td>0</td>\n",
              "      <td>No</td>\n",
              "      <td>No</td>\n",
              "      <td>2</td>\n",
              "      <td>Yes</td>\n",
              "      <td>No</td>\n",
              "      <td>DSL</td>\n",
              "      <td>Yes</td>\n",
              "      <td>Yes</td>\n",
              "      <td>No</td>\n",
              "      <td>No</td>\n",
              "      <td>No</td>\n",
              "      <td>No</td>\n",
              "      <td>Month-to-month</td>\n",
              "      <td>Yes</td>\n",
              "      <td>Mailed check</td>\n",
              "      <td>53.85</td>\n",
              "      <td>108.15</td>\n",
              "      <td>Yes</td>\n",
              "    </tr>\n",
              "    <tr>\n",
              "      <th>4</th>\n",
              "      <td>7795-CFOCW</td>\n",
              "      <td>Male</td>\n",
              "      <td>0</td>\n",
              "      <td>No</td>\n",
              "      <td>No</td>\n",
              "      <td>45</td>\n",
              "      <td>No</td>\n",
              "      <td>No phone service</td>\n",
              "      <td>DSL</td>\n",
              "      <td>Yes</td>\n",
              "      <td>No</td>\n",
              "      <td>Yes</td>\n",
              "      <td>Yes</td>\n",
              "      <td>No</td>\n",
              "      <td>No</td>\n",
              "      <td>One year</td>\n",
              "      <td>No</td>\n",
              "      <td>Bank transfer (automatic)</td>\n",
              "      <td>42.30</td>\n",
              "      <td>1840.75</td>\n",
              "      <td>No</td>\n",
              "    </tr>\n",
              "  </tbody>\n",
              "</table>\n",
              "</div>"
            ],
            "text/plain": [
              "  Customer ID  Gender  Senior Citizen  ... Monthly Charges Total Charges  Churn\n",
              "0  7590-VHVEA  Female               0  ...           29.85         29.85     No\n",
              "1  7590-VHVEG  Female               0  ...           29.85         29.85     No\n",
              "2  5575-GNVDE    Male               0  ...           56.95        1889.5     No\n",
              "3  3668-QPYBK    Male               0  ...           53.85        108.15    Yes\n",
              "4  7795-CFOCW    Male               0  ...           42.30       1840.75     No\n",
              "\n",
              "[5 rows x 21 columns]"
            ]
          },
          "metadata": {
            "tags": []
          },
          "execution_count": 5
        }
      ]
    },
    {
      "cell_type": "code",
      "metadata": {
        "id": "UTb49qyVnbOc"
      },
      "source": [
        "X = pd.get_dummies(df.drop(['Churn', 'Customer ID'], axis = 1))\n",
        "y = df['Churn'].apply(lambda x:1 if x == 'Yes' else 0)"
      ],
      "execution_count": 6,
      "outputs": []
    },
    {
      "cell_type": "code",
      "metadata": {
        "id": "m56QIE9vofma"
      },
      "source": [
        "X_train, X_test, y_train, y_test = train_test_split(X, y, test_size=.2)"
      ],
      "execution_count": 9,
      "outputs": []
    },
    {
      "cell_type": "code",
      "metadata": {
        "colab": {
          "base_uri": "https://localhost:8080/"
        },
        "id": "gtDAOMBvofpo",
        "outputId": "30b478b1-aff1-4314-f193-4491d07f0b9f"
      },
      "source": [
        "y_train.head()"
      ],
      "execution_count": 10,
      "outputs": [
        {
          "output_type": "execute_result",
          "data": {
            "text/plain": [
              "828     0\n",
              "523     0\n",
              "6273    0\n",
              "750     0\n",
              "3879    0\n",
              "Name: Churn, dtype: int64"
            ]
          },
          "metadata": {
            "tags": []
          },
          "execution_count": 10
        }
      ]
    },
    {
      "cell_type": "code",
      "metadata": {
        "id": "GpilFdhQoftJ"
      },
      "source": [
        ""
      ],
      "execution_count": null,
      "outputs": []
    },
    {
      "cell_type": "markdown",
      "metadata": {
        "id": "8Kkf4mkho6es"
      },
      "source": [
        "**2. Build and Compile Model**"
      ]
    },
    {
      "cell_type": "code",
      "metadata": {
        "id": "BhbttBkJpCfr"
      },
      "source": [
        "model = Sequential()\n",
        "model.add(Dense(units=32, activation='relu', input_dim=len(X_train.columns)))\n",
        "model.add(Dense(units=64, activation='relu'))\n",
        "model.add(Dense(units=1, activation='sigmoid'))\n"
      ],
      "execution_count": 11,
      "outputs": []
    },
    {
      "cell_type": "code",
      "metadata": {
        "id": "Lpcad2kSpCoM"
      },
      "source": [
        "\n",
        "model.compile(loss='binary_crossentropy', optimizer='sgd', metrics='accuracy')"
      ],
      "execution_count": 12,
      "outputs": []
    },
    {
      "cell_type": "code",
      "metadata": {
        "id": "r1KlOUxNpC7T"
      },
      "source": [
        ""
      ],
      "execution_count": null,
      "outputs": []
    },
    {
      "cell_type": "markdown",
      "metadata": {
        "id": "3NLUg9hapcoe"
      },
      "source": [
        "**3. Fit, Predict and Evaluate**"
      ]
    },
    {
      "cell_type": "code",
      "metadata": {
        "colab": {
          "base_uri": "https://localhost:8080/"
        },
        "id": "3u4tYQn3pl-3",
        "outputId": "ba32e8a2-7d17-43c6-e1cb-d25d7bab5412"
      },
      "source": [
        "model.fit(X_train, y_train, epochs=200, batch_size=32)"
      ],
      "execution_count": 13,
      "outputs": [
        {
          "output_type": "stream",
          "text": [
            "Epoch 1/200\n",
            "177/177 [==============================] - 1s 4ms/step - loss: 0.5034 - accuracy: 0.7618\n",
            "Epoch 2/200\n",
            "177/177 [==============================] - 1s 4ms/step - loss: 0.4865 - accuracy: 0.7743\n",
            "Epoch 3/200\n",
            "177/177 [==============================] - 1s 4ms/step - loss: 0.4813 - accuracy: 0.7798\n",
            "Epoch 4/200\n",
            "177/177 [==============================] - 1s 4ms/step - loss: 0.4773 - accuracy: 0.7814\n",
            "Epoch 5/200\n",
            "177/177 [==============================] - 1s 4ms/step - loss: 0.4729 - accuracy: 0.7801\n",
            "Epoch 6/200\n",
            "177/177 [==============================] - 1s 4ms/step - loss: 0.4692 - accuracy: 0.7830\n",
            "Epoch 7/200\n",
            "177/177 [==============================] - 1s 4ms/step - loss: 0.4657 - accuracy: 0.7837\n",
            "Epoch 8/200\n",
            "177/177 [==============================] - 1s 4ms/step - loss: 0.4649 - accuracy: 0.7863\n",
            "Epoch 9/200\n",
            "177/177 [==============================] - 1s 4ms/step - loss: 0.4645 - accuracy: 0.7831\n",
            "Epoch 10/200\n",
            "177/177 [==============================] - 1s 4ms/step - loss: 0.4628 - accuracy: 0.7835\n",
            "Epoch 11/200\n",
            "177/177 [==============================] - 1s 4ms/step - loss: 0.4615 - accuracy: 0.7792\n",
            "Epoch 12/200\n",
            "177/177 [==============================] - 1s 5ms/step - loss: 0.4613 - accuracy: 0.7823\n",
            "Epoch 13/200\n",
            "177/177 [==============================] - 1s 4ms/step - loss: 0.4581 - accuracy: 0.7810\n",
            "Epoch 14/200\n",
            "177/177 [==============================] - 1s 4ms/step - loss: 0.4581 - accuracy: 0.7844\n",
            "Epoch 15/200\n",
            "177/177 [==============================] - 1s 4ms/step - loss: 0.4581 - accuracy: 0.7819\n",
            "Epoch 16/200\n",
            "177/177 [==============================] - 1s 4ms/step - loss: 0.4576 - accuracy: 0.7824\n",
            "Epoch 17/200\n",
            "177/177 [==============================] - 1s 4ms/step - loss: 0.4559 - accuracy: 0.7831\n",
            "Epoch 18/200\n",
            "177/177 [==============================] - 1s 4ms/step - loss: 0.4521 - accuracy: 0.7883\n",
            "Epoch 19/200\n",
            "177/177 [==============================] - 1s 4ms/step - loss: 0.4553 - accuracy: 0.7824\n",
            "Epoch 20/200\n",
            "177/177 [==============================] - 1s 4ms/step - loss: 0.4518 - accuracy: 0.7833\n",
            "Epoch 21/200\n",
            "177/177 [==============================] - 1s 4ms/step - loss: 0.4515 - accuracy: 0.7867\n",
            "Epoch 22/200\n",
            "177/177 [==============================] - 1s 4ms/step - loss: 0.4521 - accuracy: 0.7839\n",
            "Epoch 23/200\n",
            "177/177 [==============================] - 1s 4ms/step - loss: 0.4528 - accuracy: 0.7869\n",
            "Epoch 24/200\n",
            "177/177 [==============================] - 1s 4ms/step - loss: 0.4502 - accuracy: 0.7881\n",
            "Epoch 25/200\n",
            "177/177 [==============================] - 1s 4ms/step - loss: 0.4498 - accuracy: 0.7872\n",
            "Epoch 26/200\n",
            "177/177 [==============================] - 1s 4ms/step - loss: 0.4511 - accuracy: 0.7853\n",
            "Epoch 27/200\n",
            "177/177 [==============================] - 1s 4ms/step - loss: 0.4483 - accuracy: 0.7901\n",
            "Epoch 28/200\n",
            "177/177 [==============================] - 1s 4ms/step - loss: 0.4476 - accuracy: 0.7879\n",
            "Epoch 29/200\n",
            "177/177 [==============================] - 1s 4ms/step - loss: 0.4474 - accuracy: 0.7849\n",
            "Epoch 30/200\n",
            "177/177 [==============================] - 1s 4ms/step - loss: 0.4490 - accuracy: 0.7826\n",
            "Epoch 31/200\n",
            "177/177 [==============================] - 1s 4ms/step - loss: 0.4508 - accuracy: 0.7872\n",
            "Epoch 32/200\n",
            "177/177 [==============================] - 1s 4ms/step - loss: 0.4470 - accuracy: 0.7872\n",
            "Epoch 33/200\n",
            "177/177 [==============================] - 1s 4ms/step - loss: 0.4493 - accuracy: 0.7890\n",
            "Epoch 34/200\n",
            "177/177 [==============================] - 1s 4ms/step - loss: 0.4480 - accuracy: 0.7869\n",
            "Epoch 35/200\n",
            "177/177 [==============================] - 1s 5ms/step - loss: 0.4477 - accuracy: 0.7879\n",
            "Epoch 36/200\n",
            "177/177 [==============================] - 1s 4ms/step - loss: 0.4434 - accuracy: 0.7876\n",
            "Epoch 37/200\n",
            "177/177 [==============================] - 1s 4ms/step - loss: 0.4459 - accuracy: 0.7854\n",
            "Epoch 38/200\n",
            "177/177 [==============================] - 1s 4ms/step - loss: 0.4461 - accuracy: 0.7862\n",
            "Epoch 39/200\n",
            "177/177 [==============================] - 1s 4ms/step - loss: 0.4452 - accuracy: 0.7869\n",
            "Epoch 40/200\n",
            "177/177 [==============================] - 1s 4ms/step - loss: 0.4435 - accuracy: 0.7922\n",
            "Epoch 41/200\n",
            "177/177 [==============================] - 1s 4ms/step - loss: 0.4462 - accuracy: 0.7867\n",
            "Epoch 42/200\n",
            "177/177 [==============================] - 1s 5ms/step - loss: 0.4462 - accuracy: 0.7863\n",
            "Epoch 43/200\n",
            "177/177 [==============================] - 1s 4ms/step - loss: 0.4461 - accuracy: 0.7885\n",
            "Epoch 44/200\n",
            "177/177 [==============================] - 1s 4ms/step - loss: 0.4436 - accuracy: 0.7869\n",
            "Epoch 45/200\n",
            "177/177 [==============================] - 1s 4ms/step - loss: 0.4436 - accuracy: 0.7851\n",
            "Epoch 46/200\n",
            "177/177 [==============================] - 1s 4ms/step - loss: 0.4418 - accuracy: 0.7895\n",
            "Epoch 47/200\n",
            "177/177 [==============================] - 1s 5ms/step - loss: 0.4441 - accuracy: 0.7895\n",
            "Epoch 48/200\n",
            "177/177 [==============================] - 1s 4ms/step - loss: 0.4436 - accuracy: 0.7869\n",
            "Epoch 49/200\n",
            "177/177 [==============================] - 1s 4ms/step - loss: 0.4387 - accuracy: 0.7913\n",
            "Epoch 50/200\n",
            "177/177 [==============================] - 1s 4ms/step - loss: 0.4451 - accuracy: 0.7909\n",
            "Epoch 51/200\n",
            "177/177 [==============================] - 1s 4ms/step - loss: 0.4430 - accuracy: 0.7918\n",
            "Epoch 52/200\n",
            "177/177 [==============================] - 1s 5ms/step - loss: 0.4467 - accuracy: 0.7872\n",
            "Epoch 53/200\n",
            "177/177 [==============================] - 1s 4ms/step - loss: 0.4399 - accuracy: 0.7847\n",
            "Epoch 54/200\n",
            "177/177 [==============================] - 1s 4ms/step - loss: 0.4401 - accuracy: 0.7895\n",
            "Epoch 55/200\n",
            "177/177 [==============================] - 1s 4ms/step - loss: 0.4402 - accuracy: 0.7929\n",
            "Epoch 56/200\n",
            "177/177 [==============================] - 1s 4ms/step - loss: 0.4401 - accuracy: 0.7925\n",
            "Epoch 57/200\n",
            "177/177 [==============================] - 1s 4ms/step - loss: 0.4403 - accuracy: 0.7888\n",
            "Epoch 58/200\n",
            "177/177 [==============================] - 1s 5ms/step - loss: 0.4386 - accuracy: 0.7881\n",
            "Epoch 59/200\n",
            "177/177 [==============================] - 1s 4ms/step - loss: 0.4395 - accuracy: 0.7934\n",
            "Epoch 60/200\n",
            "177/177 [==============================] - 1s 4ms/step - loss: 0.4430 - accuracy: 0.7933\n",
            "Epoch 61/200\n",
            "177/177 [==============================] - 1s 7ms/step - loss: 0.4409 - accuracy: 0.7934\n",
            "Epoch 62/200\n",
            "177/177 [==============================] - 1s 4ms/step - loss: 0.4374 - accuracy: 0.7904\n",
            "Epoch 63/200\n",
            "177/177 [==============================] - 1s 4ms/step - loss: 0.4391 - accuracy: 0.7876\n",
            "Epoch 64/200\n",
            "177/177 [==============================] - 1s 4ms/step - loss: 0.4350 - accuracy: 0.7956\n",
            "Epoch 65/200\n",
            "177/177 [==============================] - 1s 4ms/step - loss: 0.4379 - accuracy: 0.7949\n",
            "Epoch 66/200\n",
            "177/177 [==============================] - 1s 4ms/step - loss: 0.4395 - accuracy: 0.7881\n",
            "Epoch 67/200\n",
            "177/177 [==============================] - 1s 4ms/step - loss: 0.4373 - accuracy: 0.7888\n",
            "Epoch 68/200\n",
            "177/177 [==============================] - 1s 4ms/step - loss: 0.4371 - accuracy: 0.7920\n",
            "Epoch 69/200\n",
            "177/177 [==============================] - 1s 4ms/step - loss: 0.4412 - accuracy: 0.7894\n",
            "Epoch 70/200\n",
            "177/177 [==============================] - 1s 4ms/step - loss: 0.4394 - accuracy: 0.7913\n",
            "Epoch 71/200\n",
            "177/177 [==============================] - 1s 4ms/step - loss: 0.4364 - accuracy: 0.7925\n",
            "Epoch 72/200\n",
            "177/177 [==============================] - 1s 5ms/step - loss: 0.4336 - accuracy: 0.7911\n",
            "Epoch 73/200\n",
            "177/177 [==============================] - 1s 5ms/step - loss: 0.4363 - accuracy: 0.7927\n",
            "Epoch 74/200\n",
            "177/177 [==============================] - 1s 5ms/step - loss: 0.4332 - accuracy: 0.7995\n",
            "Epoch 75/200\n",
            "177/177 [==============================] - 1s 5ms/step - loss: 0.4356 - accuracy: 0.7966\n",
            "Epoch 76/200\n",
            "177/177 [==============================] - 1s 4ms/step - loss: 0.4346 - accuracy: 0.7908\n",
            "Epoch 77/200\n",
            "177/177 [==============================] - 1s 4ms/step - loss: 0.4350 - accuracy: 0.7936\n",
            "Epoch 78/200\n",
            "177/177 [==============================] - 1s 4ms/step - loss: 0.4353 - accuracy: 0.7924\n",
            "Epoch 79/200\n",
            "177/177 [==============================] - 1s 4ms/step - loss: 0.4316 - accuracy: 0.7963\n",
            "Epoch 80/200\n",
            "177/177 [==============================] - 1s 4ms/step - loss: 0.4364 - accuracy: 0.7897\n",
            "Epoch 81/200\n",
            "177/177 [==============================] - 1s 4ms/step - loss: 0.4348 - accuracy: 0.7925\n",
            "Epoch 82/200\n",
            "177/177 [==============================] - 1s 4ms/step - loss: 0.4323 - accuracy: 0.7949\n",
            "Epoch 83/200\n",
            "177/177 [==============================] - 1s 4ms/step - loss: 0.4333 - accuracy: 0.7915\n",
            "Epoch 84/200\n",
            "177/177 [==============================] - 1s 5ms/step - loss: 0.4337 - accuracy: 0.7950\n",
            "Epoch 85/200\n",
            "177/177 [==============================] - 1s 4ms/step - loss: 0.4319 - accuracy: 0.7929\n",
            "Epoch 86/200\n",
            "177/177 [==============================] - 1s 5ms/step - loss: 0.4317 - accuracy: 0.7949\n",
            "Epoch 87/200\n",
            "177/177 [==============================] - 1s 5ms/step - loss: 0.4301 - accuracy: 0.7966\n",
            "Epoch 88/200\n",
            "177/177 [==============================] - 1s 4ms/step - loss: 0.4336 - accuracy: 0.7943\n",
            "Epoch 89/200\n",
            "177/177 [==============================] - 1s 4ms/step - loss: 0.4334 - accuracy: 0.7933\n",
            "Epoch 90/200\n",
            "177/177 [==============================] - 1s 4ms/step - loss: 0.4410 - accuracy: 0.7913\n",
            "Epoch 91/200\n",
            "177/177 [==============================] - 1s 4ms/step - loss: 0.4348 - accuracy: 0.7904\n",
            "Epoch 92/200\n",
            "177/177 [==============================] - 1s 5ms/step - loss: 0.4308 - accuracy: 0.7950\n",
            "Epoch 93/200\n",
            "177/177 [==============================] - 1s 5ms/step - loss: 0.4335 - accuracy: 0.7938\n",
            "Epoch 94/200\n",
            "177/177 [==============================] - 1s 4ms/step - loss: 0.4330 - accuracy: 0.7902\n",
            "Epoch 95/200\n",
            "177/177 [==============================] - 1s 5ms/step - loss: 0.4300 - accuracy: 0.7943\n",
            "Epoch 96/200\n",
            "177/177 [==============================] - 1s 4ms/step - loss: 0.4320 - accuracy: 0.7952\n",
            "Epoch 97/200\n",
            "177/177 [==============================] - 1s 4ms/step - loss: 0.4309 - accuracy: 0.7982\n",
            "Epoch 98/200\n",
            "177/177 [==============================] - 1s 4ms/step - loss: 0.4288 - accuracy: 0.8002\n",
            "Epoch 99/200\n",
            "177/177 [==============================] - 1s 5ms/step - loss: 0.4318 - accuracy: 0.7950\n",
            "Epoch 100/200\n",
            "177/177 [==============================] - 1s 4ms/step - loss: 0.4326 - accuracy: 0.7931\n",
            "Epoch 101/200\n",
            "177/177 [==============================] - 1s 5ms/step - loss: 0.4290 - accuracy: 0.7988\n",
            "Epoch 102/200\n",
            "177/177 [==============================] - 1s 5ms/step - loss: 0.4327 - accuracy: 0.7929\n",
            "Epoch 103/200\n",
            "177/177 [==============================] - 1s 5ms/step - loss: 0.4312 - accuracy: 0.7957\n",
            "Epoch 104/200\n",
            "177/177 [==============================] - 1s 5ms/step - loss: 0.4279 - accuracy: 0.7959\n",
            "Epoch 105/200\n",
            "177/177 [==============================] - 1s 5ms/step - loss: 0.4332 - accuracy: 0.7957\n",
            "Epoch 106/200\n",
            "177/177 [==============================] - 1s 5ms/step - loss: 0.4304 - accuracy: 0.7936\n",
            "Epoch 107/200\n",
            "177/177 [==============================] - 1s 5ms/step - loss: 0.4268 - accuracy: 0.7982\n",
            "Epoch 108/200\n",
            "177/177 [==============================] - 1s 5ms/step - loss: 0.4302 - accuracy: 0.7965\n",
            "Epoch 109/200\n",
            "177/177 [==============================] - 1s 5ms/step - loss: 0.4293 - accuracy: 0.7963\n",
            "Epoch 110/200\n",
            "177/177 [==============================] - 1s 4ms/step - loss: 0.4299 - accuracy: 0.7993\n",
            "Epoch 111/200\n",
            "177/177 [==============================] - 1s 5ms/step - loss: 0.4273 - accuracy: 0.8002\n",
            "Epoch 112/200\n",
            "177/177 [==============================] - 1s 5ms/step - loss: 0.4286 - accuracy: 0.7965\n",
            "Epoch 113/200\n",
            "177/177 [==============================] - 1s 5ms/step - loss: 0.4274 - accuracy: 0.7975\n",
            "Epoch 114/200\n",
            "177/177 [==============================] - 1s 4ms/step - loss: 0.4279 - accuracy: 0.7977\n",
            "Epoch 115/200\n",
            "177/177 [==============================] - 1s 4ms/step - loss: 0.4281 - accuracy: 0.7989\n",
            "Epoch 116/200\n",
            "177/177 [==============================] - 1s 5ms/step - loss: 0.4256 - accuracy: 0.8002\n",
            "Epoch 117/200\n",
            "177/177 [==============================] - 1s 5ms/step - loss: 0.4277 - accuracy: 0.7952\n",
            "Epoch 118/200\n",
            "177/177 [==============================] - 1s 5ms/step - loss: 0.4264 - accuracy: 0.7957\n",
            "Epoch 119/200\n",
            "177/177 [==============================] - 1s 5ms/step - loss: 0.4273 - accuracy: 0.7982\n",
            "Epoch 120/200\n",
            "177/177 [==============================] - 1s 5ms/step - loss: 0.4253 - accuracy: 0.7982\n",
            "Epoch 121/200\n",
            "177/177 [==============================] - 1s 5ms/step - loss: 0.4236 - accuracy: 0.8023\n",
            "Epoch 122/200\n",
            "177/177 [==============================] - 1s 5ms/step - loss: 0.4284 - accuracy: 0.7972\n",
            "Epoch 123/200\n",
            "177/177 [==============================] - 1s 5ms/step - loss: 0.4279 - accuracy: 0.7973\n",
            "Epoch 124/200\n",
            "177/177 [==============================] - 1s 5ms/step - loss: 0.4287 - accuracy: 0.7993\n",
            "Epoch 125/200\n",
            "177/177 [==============================] - 1s 5ms/step - loss: 0.4267 - accuracy: 0.7995\n",
            "Epoch 126/200\n",
            "177/177 [==============================] - 1s 5ms/step - loss: 0.4253 - accuracy: 0.7975\n",
            "Epoch 127/200\n",
            "177/177 [==============================] - 1s 5ms/step - loss: 0.4255 - accuracy: 0.8014\n",
            "Epoch 128/200\n",
            "177/177 [==============================] - 1s 5ms/step - loss: 0.4230 - accuracy: 0.8025\n",
            "Epoch 129/200\n",
            "177/177 [==============================] - 1s 5ms/step - loss: 0.4315 - accuracy: 0.7989\n",
            "Epoch 130/200\n",
            "177/177 [==============================] - 1s 5ms/step - loss: 0.4258 - accuracy: 0.7972\n",
            "Epoch 131/200\n",
            "177/177 [==============================] - 1s 5ms/step - loss: 0.4251 - accuracy: 0.8002\n",
            "Epoch 132/200\n",
            "177/177 [==============================] - 1s 4ms/step - loss: 0.4233 - accuracy: 0.7966\n",
            "Epoch 133/200\n",
            "177/177 [==============================] - 1s 5ms/step - loss: 0.4250 - accuracy: 0.8014\n",
            "Epoch 134/200\n",
            "177/177 [==============================] - 1s 4ms/step - loss: 0.4238 - accuracy: 0.7956\n",
            "Epoch 135/200\n",
            "177/177 [==============================] - 1s 5ms/step - loss: 0.4252 - accuracy: 0.8000\n",
            "Epoch 136/200\n",
            "177/177 [==============================] - 1s 5ms/step - loss: 0.4260 - accuracy: 0.8000\n",
            "Epoch 137/200\n",
            "177/177 [==============================] - 1s 5ms/step - loss: 0.4243 - accuracy: 0.8009\n",
            "Epoch 138/200\n",
            "177/177 [==============================] - 1s 4ms/step - loss: 0.4233 - accuracy: 0.7931\n",
            "Epoch 139/200\n",
            "177/177 [==============================] - 1s 5ms/step - loss: 0.4259 - accuracy: 0.7998\n",
            "Epoch 140/200\n",
            "177/177 [==============================] - 1s 4ms/step - loss: 0.4232 - accuracy: 0.7986\n",
            "Epoch 141/200\n",
            "177/177 [==============================] - 1s 4ms/step - loss: 0.4250 - accuracy: 0.7973\n",
            "Epoch 142/200\n",
            "177/177 [==============================] - 1s 5ms/step - loss: 0.4258 - accuracy: 0.8004\n",
            "Epoch 143/200\n",
            "177/177 [==============================] - 1s 4ms/step - loss: 0.4222 - accuracy: 0.7995\n",
            "Epoch 144/200\n",
            "177/177 [==============================] - 1s 5ms/step - loss: 0.4258 - accuracy: 0.7972\n",
            "Epoch 145/200\n",
            "177/177 [==============================] - 1s 5ms/step - loss: 0.4243 - accuracy: 0.8000\n",
            "Epoch 146/200\n",
            "177/177 [==============================] - 1s 5ms/step - loss: 0.4273 - accuracy: 0.8021\n",
            "Epoch 147/200\n",
            "177/177 [==============================] - 1s 5ms/step - loss: 0.4239 - accuracy: 0.7993\n",
            "Epoch 148/200\n",
            "177/177 [==============================] - 1s 5ms/step - loss: 0.4243 - accuracy: 0.7986\n",
            "Epoch 149/200\n",
            "177/177 [==============================] - 1s 4ms/step - loss: 0.4213 - accuracy: 0.8030\n",
            "Epoch 150/200\n",
            "177/177 [==============================] - 1s 5ms/step - loss: 0.4241 - accuracy: 0.7986\n",
            "Epoch 151/200\n",
            "177/177 [==============================] - 1s 5ms/step - loss: 0.4247 - accuracy: 0.8030\n",
            "Epoch 152/200\n",
            "177/177 [==============================] - 1s 5ms/step - loss: 0.4243 - accuracy: 0.7941\n",
            "Epoch 153/200\n",
            "177/177 [==============================] - 1s 5ms/step - loss: 0.4243 - accuracy: 0.7982\n",
            "Epoch 154/200\n",
            "177/177 [==============================] - 1s 5ms/step - loss: 0.4229 - accuracy: 0.8053\n",
            "Epoch 155/200\n",
            "177/177 [==============================] - 1s 5ms/step - loss: 0.4241 - accuracy: 0.8007\n",
            "Epoch 156/200\n",
            "177/177 [==============================] - 1s 5ms/step - loss: 0.4216 - accuracy: 0.7993\n",
            "Epoch 157/200\n",
            "177/177 [==============================] - 1s 5ms/step - loss: 0.4231 - accuracy: 0.7980\n",
            "Epoch 158/200\n",
            "177/177 [==============================] - 1s 5ms/step - loss: 0.4223 - accuracy: 0.7993\n",
            "Epoch 159/200\n",
            "177/177 [==============================] - 1s 5ms/step - loss: 0.4228 - accuracy: 0.8005\n",
            "Epoch 160/200\n",
            "177/177 [==============================] - 1s 5ms/step - loss: 0.4259 - accuracy: 0.7989\n",
            "Epoch 161/200\n",
            "177/177 [==============================] - 1s 5ms/step - loss: 0.4194 - accuracy: 0.8012\n",
            "Epoch 162/200\n",
            "177/177 [==============================] - 1s 5ms/step - loss: 0.4222 - accuracy: 0.7988\n",
            "Epoch 163/200\n",
            "177/177 [==============================] - 1s 5ms/step - loss: 0.4231 - accuracy: 0.8002\n",
            "Epoch 164/200\n",
            "177/177 [==============================] - 1s 5ms/step - loss: 0.4221 - accuracy: 0.8041\n",
            "Epoch 165/200\n",
            "177/177 [==============================] - 1s 5ms/step - loss: 0.4204 - accuracy: 0.8027\n",
            "Epoch 166/200\n",
            "177/177 [==============================] - 1s 5ms/step - loss: 0.4233 - accuracy: 0.7950\n",
            "Epoch 167/200\n",
            "177/177 [==============================] - 1s 5ms/step - loss: 0.4243 - accuracy: 0.8043\n",
            "Epoch 168/200\n",
            "177/177 [==============================] - 1s 5ms/step - loss: 0.4234 - accuracy: 0.7986\n",
            "Epoch 169/200\n",
            "177/177 [==============================] - 1s 5ms/step - loss: 0.4205 - accuracy: 0.8005\n",
            "Epoch 170/200\n",
            "177/177 [==============================] - 1s 5ms/step - loss: 0.4197 - accuracy: 0.8037\n",
            "Epoch 171/200\n",
            "177/177 [==============================] - 1s 5ms/step - loss: 0.4243 - accuracy: 0.8007\n",
            "Epoch 172/200\n",
            "177/177 [==============================] - 1s 5ms/step - loss: 0.4212 - accuracy: 0.8012\n",
            "Epoch 173/200\n",
            "177/177 [==============================] - 1s 5ms/step - loss: 0.4246 - accuracy: 0.7988\n",
            "Epoch 174/200\n",
            "177/177 [==============================] - 1s 5ms/step - loss: 0.4239 - accuracy: 0.7982\n",
            "Epoch 175/200\n",
            "177/177 [==============================] - 1s 5ms/step - loss: 0.4221 - accuracy: 0.7972\n",
            "Epoch 176/200\n",
            "177/177 [==============================] - 1s 5ms/step - loss: 0.4217 - accuracy: 0.8009\n",
            "Epoch 177/200\n",
            "177/177 [==============================] - 1s 5ms/step - loss: 0.4241 - accuracy: 0.8002\n",
            "Epoch 178/200\n",
            "177/177 [==============================] - 1s 5ms/step - loss: 0.4230 - accuracy: 0.8004\n",
            "Epoch 179/200\n",
            "177/177 [==============================] - 1s 5ms/step - loss: 0.4222 - accuracy: 0.8000\n",
            "Epoch 180/200\n",
            "177/177 [==============================] - 1s 5ms/step - loss: 0.4225 - accuracy: 0.7973\n",
            "Epoch 181/200\n",
            "177/177 [==============================] - 1s 5ms/step - loss: 0.4197 - accuracy: 0.8062\n",
            "Epoch 182/200\n",
            "177/177 [==============================] - 1s 5ms/step - loss: 0.4210 - accuracy: 0.7966\n",
            "Epoch 183/200\n",
            "177/177 [==============================] - 1s 5ms/step - loss: 0.4222 - accuracy: 0.8014\n",
            "Epoch 184/200\n",
            "177/177 [==============================] - 1s 5ms/step - loss: 0.4221 - accuracy: 0.8002\n",
            "Epoch 185/200\n",
            "177/177 [==============================] - 1s 5ms/step - loss: 0.4196 - accuracy: 0.8035\n",
            "Epoch 186/200\n",
            "177/177 [==============================] - 1s 5ms/step - loss: 0.4216 - accuracy: 0.8023\n",
            "Epoch 187/200\n",
            "177/177 [==============================] - 1s 5ms/step - loss: 0.4228 - accuracy: 0.7975\n",
            "Epoch 188/200\n",
            "177/177 [==============================] - 1s 5ms/step - loss: 0.4220 - accuracy: 0.7996\n",
            "Epoch 189/200\n",
            "177/177 [==============================] - 1s 5ms/step - loss: 0.4181 - accuracy: 0.8020\n",
            "Epoch 190/200\n",
            "177/177 [==============================] - 1s 5ms/step - loss: 0.4209 - accuracy: 0.7979\n",
            "Epoch 191/200\n",
            "177/177 [==============================] - 1s 5ms/step - loss: 0.4204 - accuracy: 0.7984\n",
            "Epoch 192/200\n",
            "177/177 [==============================] - 1s 5ms/step - loss: 0.4245 - accuracy: 0.7963\n",
            "Epoch 193/200\n",
            "177/177 [==============================] - 1s 5ms/step - loss: 0.4225 - accuracy: 0.7991\n",
            "Epoch 194/200\n",
            "177/177 [==============================] - 1s 5ms/step - loss: 0.4199 - accuracy: 0.7965\n",
            "Epoch 195/200\n",
            "177/177 [==============================] - 1s 5ms/step - loss: 0.4193 - accuracy: 0.7998\n",
            "Epoch 196/200\n",
            "177/177 [==============================] - 1s 5ms/step - loss: 0.4180 - accuracy: 0.8055\n",
            "Epoch 197/200\n",
            "177/177 [==============================] - 1s 5ms/step - loss: 0.4196 - accuracy: 0.7988\n",
            "Epoch 198/200\n",
            "177/177 [==============================] - 1s 5ms/step - loss: 0.4199 - accuracy: 0.8014\n",
            "Epoch 199/200\n",
            "177/177 [==============================] - 1s 5ms/step - loss: 0.4222 - accuracy: 0.8000\n",
            "Epoch 200/200\n",
            "177/177 [==============================] - 1s 5ms/step - loss: 0.4190 - accuracy: 0.7984\n"
          ],
          "name": "stdout"
        },
        {
          "output_type": "execute_result",
          "data": {
            "text/plain": [
              "<tensorflow.python.keras.callbacks.History at 0x7f99dcc36e10>"
            ]
          },
          "metadata": {
            "tags": []
          },
          "execution_count": 13
        }
      ]
    },
    {
      "cell_type": "code",
      "metadata": {
        "id": "9hCsZQX0pmCR"
      },
      "source": [
        "y_hat = model.predict(X_test)\n",
        "y_hat = [0 if val < 0.5 else 1 for val in y_hat]"
      ],
      "execution_count": 14,
      "outputs": []
    },
    {
      "cell_type": "code",
      "metadata": {
        "colab": {
          "base_uri": "https://localhost:8080/"
        },
        "id": "iEFb5pbipmVQ",
        "outputId": "e9c37a09-3c1f-41c0-8b60-3517ab943320"
      },
      "source": [
        "accuracy_score(y_test, y_hat)"
      ],
      "execution_count": 15,
      "outputs": [
        {
          "output_type": "execute_result",
          "data": {
            "text/plain": [
              "0.7927608232789212"
            ]
          },
          "metadata": {
            "tags": []
          },
          "execution_count": 15
        }
      ]
    },
    {
      "cell_type": "code",
      "metadata": {
        "id": "EUWHipCLpmjj"
      },
      "source": [
        ""
      ],
      "execution_count": null,
      "outputs": []
    },
    {
      "cell_type": "markdown",
      "metadata": {
        "id": "_aqHNUeCrgn0"
      },
      "source": [
        "**4.Saving and Reloading**"
      ]
    },
    {
      "cell_type": "code",
      "metadata": {
        "colab": {
          "base_uri": "https://localhost:8080/"
        },
        "id": "Vg3Awu_Xpmmu",
        "outputId": "0e2866e0-a972-499a-ff99-b1c0725b17c9"
      },
      "source": [
        "model.save('tfmodel')"
      ],
      "execution_count": 16,
      "outputs": [
        {
          "output_type": "stream",
          "text": [
            "INFO:tensorflow:Assets written to: tfmodel/assets\n"
          ],
          "name": "stdout"
        }
      ]
    },
    {
      "cell_type": "code",
      "metadata": {
        "id": "on0d2xZApmq9"
      },
      "source": [
        "del model"
      ],
      "execution_count": 17,
      "outputs": []
    },
    {
      "cell_type": "code",
      "metadata": {
        "id": "i424YCBCr2UR"
      },
      "source": [
        "\n",
        "model = load_model('tfmodel')"
      ],
      "execution_count": 18,
      "outputs": []
    }
  ]
}